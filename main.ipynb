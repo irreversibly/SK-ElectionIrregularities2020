{
 "cells": [
  {
   "cell_type": "markdown",
   "metadata": {},
   "source": []
  },
  {
   "cell_type": "code",
   "execution_count": 1,
   "metadata": {},
   "outputs": [],
   "source": [
    "import pandas as pd\n",
    "import matplotlib.pyplot as plt\n",
    "\n",
    "Districts = ['Jongno2020','Jongno2016',\n",
    "'JungguSeongdongguA2020','JungguSeongdongguA2016',\n",
    "'JungguSeongdongguB2020','JungguSeongdongguB2016',\n",
    "'Yongsan2020','Yongsan2016',\n",
    "'GwangjinA2020','GwangjinA2016',\n",
    "'GwangjinB2020','GwangjinB2016',\n",
    "'SongpaA2020','SongpaA2016',\n",
    "'SongpaB2020','SongpaB2016',\n",
    "'SongpaC2020','SongpaC2016',\n",
    "'GoyangsiA2020','GoyangsiA2016']"
   ]
  },
  {
   "cell_type": "code",
   "execution_count": 2,
   "metadata": {},
   "outputs": [],
   "source": [
    "data = {}\n",
    "ind = {}\n",
    "coefs = {}\n",
    "Zvals = {}\n",
    "DPKwins = []\n",
    "Otherwins = []\n",
    "\n",
    "for dname in Districts:   \n",
    "    data[dname]= pd.read_csv('Data/'+dname+'.csv')\n",
    "    ind[dname] = data[dname]['ind'].tolist()\n",
    "    coefs[dname] = pd.read_csv('Outputs/'+dname+'-coefs.csv')\n",
    "    del coefs[dname]['Unnamed: 0']\n",
    "    Zvals[dname] = pd.read_csv('Outputs/'+dname+'-Zvalues.csv')\n",
    "    del Zvals[dname]['Unnamed: 0']\n",
    "    Zvals[dname]['ind'] = ind[dname]\n",
    "    \n",
    "    if data[dname]['winning'][0] == 'DPK':\n",
    "        DPKwins.append(dname)\n",
    "    elif data[dname]['winning'][0] != 'DPK':\n",
    "        Otherwins.append(dname)"
   ]
  },
  {
   "cell_type": "code",
   "execution_count": 6,
   "metadata": {},
   "outputs": [],
   "source": [
    "FraudFeat = {}\n",
    "\n",
    "for dname in Districts:    \n",
    "    NumZ2 = 0\n",
    "    FreqZ2 = 0\n",
    "    div = 0\n",
    "    for i, rows in Zvals[dname].iterrows():\n",
    "        if rows['pi[Zi1]'] < rows['pi[Zi2]']:\n",
    "            NumZ2+=1\n",
    "            if rows['ind']==1.0:\n",
    "                FreqZ2+=1\n",
    "        if rows['ind']==1.0:\n",
    "            div+=1\n",
    "    FreqZ2 /= div\n",
    "    FraudFeat[dname] = (NumZ2, FreqZ2, coefs[dname]['Mean'][6])"
   ]
  },
  {
   "cell_type": "code",
   "execution_count": 7,
   "metadata": {},
   "outputs": [
    {
     "data": {
      "text/plain": [
       "{'Jongno2020': (15, 0.8125, 0.97821742550649),\n",
       " 'Jongno2016': (0, 0.0, -0.09771739732105),\n",
       " 'JungguSeongdongguA2020': (13, 0.9285714285714286, 1.04490025555472),\n",
       " 'JungguSeongdongguA2016': (0, 0.0, 0.2275866622622),\n",
       " 'JungguSeongdongguB2020': (14, 0.7, 1.49194855208866),\n",
       " 'JungguSeongdongguB2016': (0, 0.0, 0.426469054421305),\n",
       " 'Yongsan2020': (3, 0.0, 0.0571400084375556),\n",
       " 'Yongsan2016': (0, 0.0, 0.112326048489814),\n",
       " 'GwangjinA2020': (7, 0.7777777777777778, 1.1295169208058),\n",
       " 'GwangjinA2016': (0, 0.0, -0.041843435346936006),\n",
       " 'GwangjinB2020': (4, 0.5, 1.2834618034143899),\n",
       " 'GwangjinB2016': (0, 0.0, 0.18967952890008602),\n",
       " 'SongpaA2020': (1, 0.0, 0.7435832772709698),\n",
       " 'SongpaA2016': (0, 0.0, 0.348312980782276),\n",
       " 'SongpaB2020': (1, 0.0, 0.395166697871724),\n",
       " 'SongpaB2016': (0, 0.0, 0.39937687169273206),\n",
       " 'SongpaC2020': (9, 0.8181818181818182, 1.19533023893871),\n",
       " 'SongpaC2016': (0, 0.0, 0.38837760211263894),\n",
       " 'GoyangsiA2020': (0, 0.0, -0.587632278383938),\n",
       " 'GoyangsiA2016': (0, 0.0, 0.35901409699608294)}"
      ]
     },
     "execution_count": 7,
     "metadata": {},
     "output_type": "execute_result"
    }
   ],
   "source": [
    "FraudFeat"
   ]
  },
  {
   "cell_type": "code",
   "execution_count": 9,
   "metadata": {},
   "outputs": [
    {
     "name": "stdout",
     "output_type": "stream",
     "text": [
      "(0, 0.0, -0.09771739732105)\n",
      "(0, 0.0, 0.2275866622622)\n",
      "(0, 0.0, 0.112326048489814)\n",
      "(0, 0.0, -0.041843435346936006)\n",
      "(0, 0.0, 0.18967952890008602)\n",
      "(0, 0.0, 0.39937687169273206)\n",
      "(0, 0.0, 0.38837760211263894)\n"
     ]
    }
   ],
   "source": [
    "for dname in DPKwins:\n",
    "    if dname.endswith('2016'):\n",
    "        print(FraudFeat[dname])"
   ]
  },
  {
   "cell_type": "code",
   "execution_count": 10,
   "metadata": {},
   "outputs": [
    {
     "name": "stdout",
     "output_type": "stream",
     "text": [
      "(15, 0.8125, 0.97821742550649)\n",
      "(13, 0.9285714285714286, 1.04490025555472)\n",
      "(14, 0.7, 1.49194855208866)\n",
      "(7, 0.7777777777777778, 1.1295169208058)\n",
      "(4, 0.5, 1.2834618034143899)\n",
      "(9, 0.8181818181818182, 1.19533023893871)\n"
     ]
    }
   ],
   "source": [
    "for dname in DPKwins:\n",
    "    if dname.endswith('2020'):\n",
    "        print(FraudFeat[dname])"
   ]
  },
  {
   "cell_type": "code",
   "execution_count": 11,
   "metadata": {},
   "outputs": [
    {
     "name": "stdout",
     "output_type": "stream",
     "text": [
      "(0, 0.0, 0.426469054421305)\n",
      "(0, 0.0, 0.348312980782276)\n",
      "(0, 0.0, 0.35901409699608294)\n"
     ]
    }
   ],
   "source": [
    "for dname in Otherwins:\n",
    "    if dname.endswith('2016'):\n",
    "        print(FraudFeat[dname])"
   ]
  },
  {
   "cell_type": "code",
   "execution_count": 12,
   "metadata": {},
   "outputs": [
    {
     "name": "stdout",
     "output_type": "stream",
     "text": [
      "(3, 0.0, 0.0571400084375556)\n",
      "(1, 0.0, 0.7435832772709698)\n",
      "(1, 0.0, 0.395166697871724)\n",
      "(0, 0.0, -0.587632278383938)\n"
     ]
    }
   ],
   "source": [
    "for dname in Otherwins:\n",
    "    if dname.endswith('2020'):\n",
    "        print(FraudFeat[dname])"
   ]
  },
  {
   "cell_type": "code",
   "execution_count": null,
   "metadata": {},
   "outputs": [],
   "source": []
  }
 ],
 "metadata": {
  "kernelspec": {
   "display_name": "Python 3",
   "language": "python",
   "name": "python3"
  },
  "language_info": {
   "codemirror_mode": {
    "name": "ipython",
    "version": 3
   },
   "file_extension": ".py",
   "mimetype": "text/x-python",
   "name": "python",
   "nbconvert_exporter": "python",
   "pygments_lexer": "ipython3",
   "version": "3.7.1"
  }
 },
 "nbformat": 4,
 "nbformat_minor": 2
}
